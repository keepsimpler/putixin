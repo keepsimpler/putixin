{
 "cells": [
  {
   "cell_type": "code",
   "execution_count": null,
   "metadata": {},
   "outputs": [],
   "source": [
    "#default_exp config"
   ]
  },
  {
   "cell_type": "code",
   "execution_count": null,
   "metadata": {},
   "outputs": [],
   "source": [
    "#export\n",
    "import copy"
   ]
  },
  {
   "cell_type": "code",
   "execution_count": null,
   "metadata": {},
   "outputs": [],
   "source": [
    "#hide\n",
    "from nbdev.showdoc import *"
   ]
  },
  {
   "cell_type": "code",
   "execution_count": null,
   "metadata": {},
   "outputs": [],
   "source": [
    "#export\n",
    "class CfgNode(dict):\n",
    "    \"\"\"\n",
    "    CfgNode represents an internal node in the configuration tree. It's a simple\n",
    "    dict-like container that allows for attribute-based access to keys.\n",
    "    \"\"\"\n",
    "    def __init__(self, init_dict=None):\n",
    "        init_dict = {} if init_dict is None else init_dict\n",
    "        init_dict = self._create_config_tree_from_dict(init_dict)\n",
    "        super(CfgNode, self).__init__(init_dict)\n",
    "        \n",
    "    @classmethod\n",
    "    def _create_config_tree_from_dict(cls, dic):\n",
    "        dic = copy.deepcopy(dic)\n",
    "        for k, v in dic.items():\n",
    "            if isinstance(v, dict):\n",
    "                dic[k] = cls(v)\n",
    "            else:\n",
    "                raise Exception('is not a dictionary.')\n",
    "        return dic\n",
    "    \n",
    "    def __getattr__(self, name):\n",
    "        if name in self:\n",
    "            return self[name]\n",
    "        else:\n",
    "            raise AttributeError(name)\n",
    "            \n",
    "    def __setattr__(self, name, value):\n",
    "        self[name] = value\n",
    "        \n",
    "    def __str__(self):\n",
    "        def _indent(s_, num_spaces):\n",
    "            s = s_.split(\"\\n\")\n",
    "            if len(s) == 1:\n",
    "                return s_\n",
    "            first = s.pop(0)\n",
    "            s = [(num_spaces * \" \") + line for line in s]\n",
    "            s = \"\\n\".join(s)\n",
    "            s = first + \"\\n\" + s\n",
    "            return s\n",
    "\n",
    "        r = \"\"\n",
    "        s = []\n",
    "        for k, v in sorted(self.items()):\n",
    "            seperator = \"\\n\" if isinstance(v, CfgNode) else \" \"\n",
    "            attr_str = \"{}:{}{}\".format(str(k), seperator, str(v))\n",
    "            attr_str = _indent(attr_str, 2)\n",
    "            s.append(attr_str)\n",
    "        r += \"\\n\".join(s)\n",
    "        return r\n",
    "\n",
    "    def __repr__(self):\n",
    "        return \"{}({})\".format(self.__class__.__name__, super(CfgNode, self).__repr__())\n",
    "    "
   ]
  },
  {
   "cell_type": "markdown",
   "metadata": {},
   "source": [
    "A simple configuration tree, copy and simplify from [yacs](https://github.com/rbgirshick/yacs/blob/master/yacs/config.py).\n",
    "Example:"
   ]
  },
  {
   "cell_type": "code",
   "execution_count": null,
   "metadata": {},
   "outputs": [
    {
     "data": {
      "text/plain": [
       "CfgNode({'DATASET': CfgNode({'NAME': 'FashionMNIST', 'STATS': ((0.1307,), (0.3081,))})})"
      ]
     },
     "execution_count": null,
     "metadata": {},
     "output_type": "execute_result"
    }
   ],
   "source": [
    "cfg1 = CfgNode()\n",
    "\n",
    "cfg1.DATASET = CfgNode()\n",
    "cfg1.DATASET.NAME = 'FashionMNIST'\n",
    "cfg1.DATASET.STATS = ((0.1307,), (0.3081,))\n",
    "\n",
    "cfg1"
   ]
  },
  {
   "cell_type": "code",
   "execution_count": null,
   "metadata": {},
   "outputs": [],
   "source": []
  }
 ],
 "metadata": {
  "kernelspec": {
   "display_name": "Python 3.8 (XPython)",
   "language": "python",
   "name": "xpython"
  }
 },
 "nbformat": 4,
 "nbformat_minor": 4
}
