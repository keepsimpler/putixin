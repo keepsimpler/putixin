{
 "cells": [
  {
   "cell_type": "code",
   "execution_count": null,
   "metadata": {},
   "outputs": [],
   "source": [
    "# default_exp data"
   ]
  },
  {
   "cell_type": "code",
   "execution_count": null,
   "metadata": {},
   "outputs": [],
   "source": [
    "# export\n",
    "# server\n",
    "import os\n",
    "#from pathlib import Path\n",
    "import torch\n",
    "import torchvision\n",
    "#torchvision.__version__\n",
    "\n",
    "from putixin.config import CfgNode"
   ]
  },
  {
   "cell_type": "markdown",
   "metadata": {},
   "source": [
    "# data\n",
    "\n",
    "> API details."
   ]
  },
  {
   "cell_type": "code",
   "execution_count": null,
   "metadata": {},
   "outputs": [],
   "source": [
    "#hide\n",
    "from nbdev.showdoc import *"
   ]
  },
  {
   "cell_type": "code",
   "execution_count": null,
   "metadata": {},
   "outputs": [],
   "source": [
    "#export\n",
    "cfg_fashion_mnist = CfgNode()\n",
    "cfg_fashion_mnist.DATASET = CfgNode()\n",
    "cfg_fashion_mnist.DATASET.NAME = 'FashionMNIST'\n",
    "cfg_fashion_mnist.DATASET.STATS = ((0.1307,), (0.3081,))"
   ]
  },
  {
   "cell_type": "code",
   "execution_count": null,
   "metadata": {},
   "outputs": [],
   "source": [
    "cifar_stats = ((0.491, 0.482, 0.447), (0.247, 0.243, 0.261))"
   ]
  },
  {
   "cell_type": "code",
   "execution_count": null,
   "metadata": {},
   "outputs": [],
   "source": [
    "#export\n",
    "PUTIXIN_HOME = os.path.expanduser(os.getenv('PUTIXIN_HOME', '~/.putixin'))\n",
    "default_data_path = PUTIXIN_HOME + '/data'\n",
    "default_model_path = PUTIXIN_HOME + '/models'"
   ]
  },
  {
   "cell_type": "code",
   "execution_count": null,
   "metadata": {},
   "outputs": [
    {
     "data": {
      "text/plain": [
       "('/home/fengwf/.putixin', '/home/fengwf/.putixin/data', '/home/fengwf/.putixin/models')"
      ]
     },
     "execution_count": null,
     "metadata": {},
     "output_type": "execute_result"
    }
   ],
   "source": [
    "PUTIXIN_HOME, default_data_path, default_model_path"
   ]
  },
  {
   "cell_type": "code",
   "execution_count": null,
   "metadata": {},
   "outputs": [],
   "source": [
    "#export\n",
    "def data(cfg:CfgNode, transforms:list=None, path:str=None, bs:int=16):\n",
    "    '''\n",
    "    Args:\n",
    "    -- cfg: name and stats of dataset.\n",
    "    -- path: data dir of dataset.\n",
    "    -- bs: batch_size.\n",
    "    \n",
    "    Return:\n",
    "    \n",
    "    '''\n",
    "    if transforms is None:\n",
    "        to_tensor = torchvision.transforms.ToTensor()\n",
    "        normalize = torchvision.transforms.Normalize(*cfg.DATASET.STATS)\n",
    "        transforms = torchvision.transforms.Compose([to_tensor, normalize])\n",
    "\n",
    "    \n",
    "    if path is None:\n",
    "        path = default_data_path\n",
    "\n",
    "    dataset = getattr(torchvision.datasets, cfg.DATASET.NAME)\n",
    "\n",
    "    train_data = dataset(path, download=True, transform=transforms)\n",
    "    test_data = dataset(path, train=False, download=True, transform=transforms)\n",
    "\n",
    "    train_loader = torch.utils.data.DataLoader(train_data,\n",
    "                                batch_size=bs,\n",
    "                                shuffle=True,\n",
    "                                num_workers=0)    \n",
    "    test_loader = torch.utils.data.DataLoader(test_data,\n",
    "                                batch_size=bs,\n",
    "                                shuffle=True,\n",
    "                                num_workers=0)    \n",
    "    \n",
    "    return train_loader, test_loader"
   ]
  },
  {
   "cell_type": "code",
   "execution_count": null,
   "metadata": {},
   "outputs": [
    {
     "name": "stdout",
     "output_type": "stream",
     "text": [
      "Downloading http://fashion-mnist.s3-website.eu-central-1.amazonaws.com/train-images-idx3-ubyte.gz to /home/fengwf/.putixin/data/FashionMNIST/raw/train-images-idx3-ubyte.gz\n"
     ]
    },
    {
     "name": "stderr",
     "output_type": "stream",
     "text": [
      "100.0%"
     ]
    },
    {
     "name": "stdout",
     "output_type": "stream",
     "text": [
      "Extracting /home/fengwf/.putixin/data/FashionMNIST/raw/train-images-idx3-ubyte.gz to /home/fengwf/.putixin/data/FashionMNIST/raw\n",
      "Downloading http://fashion-mnist.s3-website.eu-central-1.amazonaws.com/train-labels-idx1-ubyte.gz to /home/fengwf/.putixin/data/FashionMNIST/raw/train-labels-idx1-ubyte.gz\n"
     ]
    },
    {
     "name": "stderr",
     "output_type": "stream",
     "text": [
      "111.0%"
     ]
    },
    {
     "name": "stdout",
     "output_type": "stream",
     "text": [
      "Extracting /home/fengwf/.putixin/data/FashionMNIST/raw/train-labels-idx1-ubyte.gz to /home/fengwf/.putixin/data/FashionMNIST/raw\n",
      "Downloading http://fashion-mnist.s3-website.eu-central-1.amazonaws.com/t10k-images-idx3-ubyte.gz to /home/fengwf/.putixin/data/FashionMNIST/raw/t10k-images-idx3-ubyte.gz\n"
     ]
    },
    {
     "name": "stderr",
     "output_type": "stream",
     "text": [
      "100.0%"
     ]
    },
    {
     "name": "stdout",
     "output_type": "stream",
     "text": [
      "Extracting /home/fengwf/.putixin/data/FashionMNIST/raw/t10k-images-idx3-ubyte.gz to /home/fengwf/.putixin/data/FashionMNIST/raw\n",
      "Downloading http://fashion-mnist.s3-website.eu-central-1.amazonaws.com/t10k-labels-idx1-ubyte.gz to /home/fengwf/.putixin/data/FashionMNIST/raw/t10k-labels-idx1-ubyte.gz\n"
     ]
    },
    {
     "name": "stderr",
     "output_type": "stream",
     "text": [
      "159.1%"
     ]
    },
    {
     "name": "stdout",
     "output_type": "stream",
     "text": [
      "Extracting /home/fengwf/.putixin/data/FashionMNIST/raw/t10k-labels-idx1-ubyte.gz to /home/fengwf/.putixin/data/FashionMNIST/raw\n",
      "Processing...\n"
     ]
    },
    {
     "name": "stderr",
     "output_type": "stream",
     "text": [
      "/opt/conda/conda-bld/pytorch_1591914858748/work/torch/csrc/utils/tensor_numpy.cpp:141: UserWarning: The given NumPy array is not writeable, and PyTorch does not support non-writeable tensors. This means you can write to the underlying (supposedly non-writeable) NumPy array using the tensor. You may want to copy the array to protect its data or make it writeable before converting it to a tensor. This type of warning will be suppressed for the rest of this program.\n"
     ]
    },
    {
     "name": "stdout",
     "output_type": "stream",
     "text": [
      "Done!\n"
     ]
    }
   ],
   "source": [
    "fashion_mnist = data(cfg_fashion_mnist)"
   ]
  },
  {
   "cell_type": "code",
   "execution_count": null,
   "metadata": {},
   "outputs": [],
   "source": []
  }
 ],
 "metadata": {
  "kernelspec": {
   "display_name": "Python 3.8 (XPython)",
   "language": "python",
   "name": "xpython"
  }
 },
 "nbformat": 4,
 "nbformat_minor": 4
}
