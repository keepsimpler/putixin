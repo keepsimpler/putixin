{
 "cells": [
  {
   "cell_type": "code",
   "execution_count": null,
   "metadata": {},
   "outputs": [],
   "source": [
    "# default_exp hamilton"
   ]
  },
  {
   "cell_type": "code",
   "execution_count": null,
   "metadata": {},
   "outputs": [],
   "source": [
    "#export\n",
    "import torch\n",
    "import torch.nn as nn\n",
    "import torch.nn.functional as F"
   ]
  },
  {
   "cell_type": "markdown",
   "metadata": {},
   "source": [
    "# hamilton\n",
    "\n",
    "> API details."
   ]
  },
  {
   "cell_type": "code",
   "execution_count": null,
   "metadata": {},
   "outputs": [],
   "source": [
    "#hide\n",
    "from nbdev.showdoc import *"
   ]
  },
  {
   "cell_type": "code",
   "execution_count": null,
   "metadata": {},
   "outputs": [],
   "source": [
    "%matplotlib inline\n",
    "import matplotlib.pyplot as plt"
   ]
  },
  {
   "cell_type": "markdown",
   "metadata": {},
   "source": [
    "Staggered midpoint\n",
    "\n",
    "\\begin{equation}\n",
    "x_n = x_{n-1} + k y_{n-\\frac{1}{2}}, y_{n+\\frac{1}{2}} = y_{n-\\frac{1}{2}} - k x_n, n = 1,\\ldots,N-1,\n",
    "\\end{equation}\n",
    "starting with $y_{\\frac{1}{2}} = y_{0} - \\frac{k}{2} x_0$ and ending with \n",
    "$x_N = x_{N-1} + k y_{N-\\frac{1}{2}}, y_{N} = y_{N-\\frac{1}{2}} - \\frac{k}{2} x_n$.\n",
    "This is called the **Stormer-Verlet** method.\n",
    "\n",
    "Ref: Uri M. Ascher. Numerical methods for Evolutionary Differential Equations."
   ]
  },
  {
   "cell_type": "code",
   "execution_count": null,
   "metadata": {},
   "outputs": [
    {
     "data": {
      "image/png": "[encoded data removed]",
      "text/plain": [
       "<Figure size 432x288 with 1 Axes>"
      ]
     },
     "metadata": {
      "needs_background": "light"
     },
     "output_type": "display_data"
    }
   ],
   "source": [
    "x0 = [0, 0, 0.5, 1, 1.5, 2, 2.5, 3]\n",
    "y0 = [0, 1, 0, 1, 0, 1, 0, 1]\n",
    "x1 = [0, 0.5, 1, 1.5, 2, 2.5, 3]\n",
    "y1 = [1, 0, 1, 0, 1, 0, 1]\n",
    "plt.axis('off')\n",
    "plt.plot(x0, y0, 'ro', x1, y1, 'b-')\n",
    "plt.hlines(0, 0, 2.5, linestyles='dashed')\n",
    "plt.hlines(1, 0, 3, linestyles='dashed')\n",
    "plt.text(0, 1, '$x_0$', horizontalalignment='center', verticalalignment='bottom', fontsize=15)\n",
    "plt.text(0, 0, '$y_0$', horizontalalignment='center', verticalalignment='top', fontsize=15)\n",
    "plt.text(1, 1, '$x_1$', horizontalalignment='center', verticalalignment='bottom', fontsize=15)\n",
    "plt.text(0.5, 0, '$y_1$', horizontalalignment='center', verticalalignment='top', fontsize=15)\n",
    "plt.show()"
   ]
  },
  {
   "cell_type": "code",
   "execution_count": null,
   "metadata": {},
   "outputs": [],
   "source": [
    "#export\n",
    "class HamLinear(nn.Module):\n",
    "    \"\"\"\n",
    "    Hamilonian Linear Module.\n",
    "    Args:\n",
    "    -- row, col: \n",
    "    -- alpha:\n",
    "    -- std:\n",
    "    -- act:\n",
    "    -- is_alpha_trainable:\n",
    "    \"\"\"\n",
    "    def __init__(self, row:int, col:int, alpha:float, std:float=None, act:nn.Module=nn.ReLU, is_alpha_trainable:bool=False):\n",
    "        super(HamLinear, self).__init__()\n",
    "        if std is None:\n",
    "            self.std = torch.sqrt(2*torch.tensor(row+col, dtype=torch.float))\n",
    "        else:\n",
    "            self.std = torch.tensor(std, dtype=torch.float)\n",
    "            \n",
    "        self.W = nn.Parameter(torch.randn(row, col) / std)\n",
    "        \n",
    "        if is_alpha_trainable:\n",
    "            self.alpha = nn.Parameter(torch.tensor(alpha))\n",
    "        else:\n",
    "            self.alpha = torch.tensor(alpha)\n",
    "        \n",
    "        self.act = act()\n",
    "    \n",
    "    def forward(self, x, y:torch.tensor=None):\n",
    "        if y is None:\n",
    "            y = self.alpha / 2 * self.act(x).matmul(-self.W.T)\n",
    "        else:\n",
    "            x = x + self.alpha * self.act(y).matmul(self.W)\n",
    "            y = y + self.alpha * self.act(x).matmul(-self.W.T)\n",
    "        return x, y"
   ]
  },
  {
   "cell_type": "code",
   "execution_count": null,
   "metadata": {},
   "outputs": [],
   "source": [
    "import torchvision"
   ]
  },
  {
   "cell_type": "code",
   "execution_count": null,
   "metadata": {},
   "outputs": [],
   "source": [
    "to_tensor = torchvision.transforms.ToTensor()\n",
    "normalize = torchvision.transforms.Normalize((0.1307,), (0.3081,))\n",
    "\n",
    "transforms = torchvision.transforms.Compose([to_tensor, normalize])"
   ]
  },
  {
   "cell_type": "code",
   "execution_count": null,
   "metadata": {},
   "outputs": [],
   "source": [
    "train_data = torchvision.datasets.FashionMNIST('../../data', download=True, transform=transforms)"
   ]
  },
  {
   "cell_type": "code",
   "execution_count": null,
   "metadata": {},
   "outputs": [],
   "source": [
    "test_data = torchvision.datasets.FashionMNIST('../../data', train=False,\n",
    "                                               download=True, transform=transforms)"
   ]
  },
  {
   "cell_type": "code",
   "execution_count": null,
   "metadata": {},
   "outputs": [],
   "source": [
    "bs = 4\n",
    "train_loader = torch.utils.data.DataLoader(train_data,\n",
    "                            batch_size=bs,\n",
    "                            shuffle=True,\n",
    "                            num_workers=16)"
   ]
  },
  {
   "cell_type": "code",
   "execution_count": null,
   "metadata": {},
   "outputs": [],
   "source": [
    "I = iter(train_loader)"
   ]
  },
  {
   "cell_type": "code",
   "execution_count": null,
   "metadata": {},
   "outputs": [
    {
     "data": {
      "text/plain": [
       "torch.Size([4, 1, 28, 28])"
      ]
     },
     "execution_count": null,
     "metadata": {},
     "output_type": "execute_result"
    }
   ],
   "source": [
    "batch_images = next(I)[0]\n",
    "batch_images.shape"
   ]
  },
  {
   "cell_type": "code",
   "execution_count": null,
   "metadata": {},
   "outputs": [
    {
     "data": {
      "image/png": "[encoded data removed]",
      "text/plain": [
       "<Figure size 1080x1080 with 4 Axes>"
      ]
     },
     "metadata": {
      "needs_background": "light"
     },
     "output_type": "display_data"
    }
   ],
   "source": [
    "plt.figure(figsize=(15,15))\n",
    "for i in range(bs):\n",
    "    plt.subplot(1, bs, i+1)\n",
    "    plt.axis('off')\n",
    "    plt.imshow(batch_images[i,0,:,:].detach().numpy())"
   ]
  },
  {
   "cell_type": "code",
   "execution_count": null,
   "metadata": {},
   "outputs": [],
   "source": [
    "row, col = 28*28, 28*28\n",
    "alpha = 1.\n",
    "act = nn.ReLU # nn.Sigmoid # nn.Tanh # nn.ReLU  # nn.Identity\n",
    "ham_init = HamInit(row, col, alpha, act=act)\n"
   ]
  },
  {
   "cell_type": "code",
   "execution_count": null,
   "metadata": {},
   "outputs": [
    {
     "data": {
      "text/plain": [
       "torch.Size([4, 1, 28, 28])"
      ]
     },
     "execution_count": null,
     "metadata": {},
     "output_type": "execute_result"
    }
   ],
   "source": [
    "x0 = batch_images.view(bs, -1)\n",
    "x = x0\n",
    "y = ham_init(x)\n",
    "out_data = y.view(bs,1,28,28)\n",
    "out_data.shape"
   ]
  },
  {
   "cell_type": "code",
   "execution_count": null,
   "metadata": {},
   "outputs": [
    {
     "data": {
      "image/png": "[encoded data removed]",
      "text/plain": [
       "<Figure size 1080x1080 with 4 Axes>"
      ]
     },
     "metadata": {
      "needs_background": "light"
     },
     "output_type": "display_data"
    }
   ],
   "source": [
    "plt.figure(figsize=(15,15))\n",
    "for i in range(bs):\n",
    "    plt.subplot(1, bs, i+1)\n",
    "    plt.axis('off')\n",
    "    plt.imshow(out_data[i,0,:,:].detach().numpy())"
   ]
  },
  {
   "cell_type": "code",
   "execution_count": null,
   "metadata": {},
   "outputs": [],
   "source": [
    "ham_linear = HamLinear(row, col, alpha, act=act)"
   ]
  },
  {
   "cell_type": "code",
   "execution_count": null,
   "metadata": {},
   "outputs": [],
   "source": [
    "x1, y1 = ham_linear(x, y)"
   ]
  },
  {
   "cell_type": "code",
   "execution_count": null,
   "metadata": {},
   "outputs": [
    {
     "data": {
      "text/plain": [
       "torch.Size([4, 1, 28, 28])"
      ]
     },
     "execution_count": null,
     "metadata": {},
     "output_type": "execute_result"
    }
   ],
   "source": [
    "out_data = x1.view(bs,1,28,28)\n",
    "out_data.shape"
   ]
  },
  {
   "cell_type": "code",
   "execution_count": null,
   "metadata": {},
   "outputs": [
    {
     "data": {
      "image/png": "[encoded data removed]",
      "text/plain": [
       "<Figure size 1080x1080 with 4 Axes>"
      ]
     },
     "metadata": {
      "needs_background": "light"
     },
     "output_type": "display_data"
    }
   ],
   "source": [
    "plt.figure(figsize=(15,15))\n",
    "for i in range(bs):\n",
    "    plt.subplot(1, bs, i+1)\n",
    "    plt.axis('off')\n",
    "    plt.imshow(out_data[i,0,:,:].detach().numpy())"
   ]
  },
  {
   "cell_type": "code",
   "execution_count": null,
   "metadata": {},
   "outputs": [
    {
     "data": {
      "text/plain": [
       "tensor([-0.4242, -0.4242, -0.4242, -0.4242, -0.4242, -0.4242, -0.4242, -0.4242,\n",
       "        -0.4242, -0.4242, -0.4242, -0.4242, -0.4242, -0.4242, -0.4242, -0.4242,\n",
       "        -0.4242, -0.4242, -0.4242, -0.4242, -0.4242, -0.4242, -0.4242, -0.4242,\n",
       "        -0.4242, -0.4242, -0.4242, -0.4242, -0.4242, -0.4242, -0.4242, -0.4242,\n",
       "        -0.4242, -0.4242, -0.4242, -0.4242, -0.4242, -0.4242, -0.4242, -0.4242,\n",
       "        -0.4242, -0.4242, -0.4242, -0.4242, -0.4242, -0.4242, -0.4242, -0.4242,\n",
       "        -0.4242, -0.4242, -0.4242, -0.4242, -0.4242, -0.4242, -0.4242, -0.4242,\n",
       "        -0.4242, -0.4242, -0.4242, -0.4242, -0.4242, -0.4242, -0.4242, -0.4242,\n",
       "        -0.4242, -0.4242, -0.4242, -0.4242, -0.4242, -0.4242, -0.4242, -0.4242,\n",
       "        -0.4242, -0.4242, -0.4242, -0.4242, -0.4242, -0.4242, -0.4242, -0.4242,\n",
       "        -0.4242, -0.4242, -0.4242, -0.4242, -0.4242, -0.4242, -0.4242, -0.4242,\n",
       "        -0.4242, -0.4242, -0.4242, -0.4242, -0.4242, -0.4242, -0.4242, -0.4242,\n",
       "        -0.4242, -0.4242, -0.4242, -0.4242, -0.4242, -0.4242, -0.4242, -0.4242,\n",
       "        -0.4242, -0.4242, -0.4242, -0.4242, -0.4242, -0.4242, -0.4242, -0.4242,\n",
       "        -0.4242, -0.4242, -0.4242, -0.4242, -0.4242, -0.4242, -0.4242, -0.4242,\n",
       "        -0.4242, -0.4242, -0.4242, -0.4242, -0.4242, -0.4242, -0.4242, -0.4242,\n",
       "        -0.4242,  0.2504,  0.8868,  0.8868, -0.0678, -0.3478, -0.4242, -0.4242,\n",
       "        -0.4242, -0.4242, -0.4242, -0.4242, -0.4242, -0.4242, -0.4242, -0.4242,\n",
       "        -0.4242, -0.4242, -0.4242, -0.4242, -0.4242, -0.4242, -0.4242, -0.4242,\n",
       "        -0.4242, -0.4242, -0.4115, -0.4242, -0.4242,  1.6123,  1.8923,  2.1087,\n",
       "         2.1723,  1.6378,  1.4341,  1.6250,  1.8796,  1.8796,  1.0268, -0.4242,\n",
       "        -0.4242, -0.4242, -0.4242, -0.4242, -0.4242, -0.4242, -0.4242, -0.4242,\n",
       "        -0.4242, -0.4242, -0.4242, -0.4242, -0.4242, -0.4242, -0.3988, -0.4242,\n",
       "        -0.4242,  1.8287,  2.0069,  1.7014,  1.7778,  1.8414,  1.9560,  1.8669,\n",
       "         1.4596,  1.3323,  1.5487, -0.4242, -0.4242, -0.4242, -0.4242, -0.4242,\n",
       "        -0.4242, -0.4242, -0.4242, -0.4242, -0.4242, -0.4242, -0.4242, -0.4242,\n",
       "        -0.4242, -0.4115, -0.4115, -0.4242, -0.4242,  1.7141,  2.1087,  1.4850,\n",
       "         1.9051,  1.8923,  1.8032,  1.8796,  1.2432,  1.2559,  0.7850, -0.4242,\n",
       "        -0.4242, -0.4242, -0.4242, -0.4242, -0.4242, -0.4242, -0.4242, -0.4242,\n",
       "        -0.4242, -0.4242, -0.4242, -0.4242, -0.4242, -0.4242, -0.3733, -0.4242,\n",
       "         0.0085,  2.1978,  2.3505,  1.5996,  1.8669,  1.6378,  1.3959,  1.2941,\n",
       "         1.2686,  1.6123,  0.5304, -0.4242, -0.4242, -0.4242, -0.4242, -0.4242,\n",
       "        -0.4242, -0.4242, -0.4242, -0.4242, -0.4242, -0.4242, -0.4242, -0.4242,\n",
       "        -0.4242, -0.4242, -0.4115, -0.4242, -0.2969,  2.0960,  2.0832,  1.5996,\n",
       "         1.6759,  1.7650,  1.8032,  1.6632,  1.1032,  1.4850,  0.1104, -0.4242,\n",
       "        -0.4242, -0.4242, -0.4242, -0.4242, -0.4242, -0.4242, -0.4242, -0.4242,\n",
       "        -0.4242, -0.4242, -0.4242, -0.4242, -0.4242, -0.4242, -0.3860, -0.4242,\n",
       "        -0.2460,  2.0578,  1.6759,  1.9305,  1.9687,  1.7905,  1.4723,  1.7650,\n",
       "         1.2559,  1.4978, -0.1060, -0.4242, -0.4242, -0.4242, -0.4242, -0.4242,\n",
       "        -0.4242, -0.4242, -0.4242, -0.4242, -0.4242, -0.4242, -0.4242, -0.4242,\n",
       "        -0.4242, -0.4242, -0.4242, -0.4242,  1.8923,  2.1723,  1.0395,  1.2305,\n",
       "         1.3068,  1.6378,  1.5996,  1.4214,  1.2305,  1.5741, -0.2078, -0.4242,\n",
       "        -0.4242, -0.4242, -0.4242, -0.4242, -0.4242, -0.4242, -0.4242, -0.4242,\n",
       "        -0.4242, -0.3988, -0.4242, -0.3988, -0.4242, -0.3478, -0.4242, -0.2333,\n",
       "         2.5287,  1.7014,  1.7269,  1.0777,  0.8486,  0.9759,  1.5359,  1.3450,\n",
       "         1.0904,  1.5487, -0.3478, -0.4242, -0.4242, -0.4242, -0.4242, -0.4242,\n",
       "        -0.4242, -0.4242, -0.4242, -0.4242, -0.4242, -0.4242, -0.4242, -0.3988,\n",
       "        -0.3860, -0.4242, -0.1951,  1.0395,  1.6505,  1.8669,  2.0960,  1.3068,\n",
       "         1.2432,  2.2360,  1.6632,  0.8613,  0.7213,  1.5359, -0.3606, -0.4242,\n",
       "        -0.4242, -0.4242, -0.4242, -0.4242, -0.4242, -0.4242, -0.4242, -0.4242,\n",
       "        -0.4242, -0.4242, -0.3606, -0.4242, -0.4242,  0.2377,  1.1414,  1.9560,\n",
       "         0.7341,  1.5105,  1.2050,  0.7850,  1.5487,  1.2814,  0.4668,  0.6195,\n",
       "         0.8486,  1.6123, -0.2206, -0.4242, -0.4242, -0.4242, -0.4242, -0.4242,\n",
       "        -0.4242, -0.4242, -0.4242, -0.4242, -0.4242, -0.3860, -0.4242, -0.4242,\n",
       "         0.2631,  1.7269,  1.3323,  0.6704,  1.0141,  0.5304,  0.7341,  1.5359,\n",
       "         1.5868,  1.5996,  1.3450,  1.0268,  1.1414,  1.8541,  0.2377, -0.4242,\n",
       "        -0.4115, -0.4242, -0.4115, -0.4115, -0.4115, -0.4115, -0.4115, -0.3988,\n",
       "        -0.3860, -0.4242, -0.0042,  1.3323,  2.0578, -0.1569,  0.6704,  1.5741,\n",
       "         1.8796,  1.8669,  1.9560,  1.6250,  1.3323,  1.5868,  1.2941,  1.3068,\n",
       "         1.4214,  1.5487,  0.6704, -0.4242, -0.4242, -0.4242, -0.4242, -0.4242,\n",
       "        -0.4242, -0.4242, -0.4242, -0.4242, -0.4242, -0.4242,  1.9178,  0.9632,\n",
       "        -0.0933,  1.2432,  1.5232,  1.7014,  1.8287,  1.8796,  1.8032,  1.8032,\n",
       "         1.7014,  1.5741,  0.9123,  1.2686,  1.3705,  1.1795,  0.9250, -0.4242,\n",
       "        -0.3988, -0.4242, -0.4242, -0.4242, -0.4242, -0.4242, -0.4242, -0.1315,\n",
       "         0.6704,  0.9886,  0.5431,  0.6704,  1.2814,  1.2177,  1.2686,  1.1159,\n",
       "         1.2432,  1.5359,  1.5232,  1.6632,  1.7905,  1.3577,  1.0395,  1.4214,\n",
       "         1.4087,  1.2177,  1.2305, -0.4242, -0.4242, -0.4242,  0.5177,  0.9504,\n",
       "         1.0777,  1.2686,  1.2941,  1.1286,  0.5431,  0.0213,  1.2941,  1.0777,\n",
       "         0.6704,  0.7722,  0.4922,  0.3649,  0.8868,  1.4596,  2.1469,  1.7141,\n",
       "         1.7778,  2.1214,  2.2742,  1.9814,  1.4214,  1.1541,  1.2050, -0.4242,\n",
       "        -0.4242,  0.7595,  1.2177,  0.4159,  0.3395,  0.5559,  0.4795,  0.0849,\n",
       "         0.0849,  0.4159,  1.1032,  0.0976,  0.3649,  1.3705,  1.7141,  1.7523,\n",
       "         1.6505,  1.1668,  1.2559,  0.8613,  0.7086,  0.3649,  0.1613,  0.2886,\n",
       "         0.3268,  0.7086,  1.0777, -0.4242,  0.5813,  2.4651,  2.2233,  1.8287,\n",
       "         1.6505,  1.5487,  1.4087,  1.1032,  0.7595,  0.6450,  0.7850,  1.0141,\n",
       "         1.2559,  1.8414,  1.2686,  0.9123,  1.2559,  1.5996,  2.1214,  2.4015,\n",
       "         2.5033,  2.4778,  2.7069,  2.6560,  2.3633,  2.4524,  2.4651, -0.0042,\n",
       "        -0.2715,  1.1541,  1.4087,  1.9051,  2.4524,  2.4778,  2.5924,  2.5415,\n",
       "         2.4142,  2.1723,  2.0451,  2.1214,  2.0069,  2.0960,  2.2869,  2.5033,\n",
       "         2.5287,  2.3887,  2.2742,  2.0960,  1.8796,  1.9814,  1.9687,  2.3378,\n",
       "         2.6306,  2.3887,  2.4524,  0.1867, -0.4242, -0.4242, -0.4242, -0.1569,\n",
       "         0.9250,  1.8669,  2.1978,  2.3887,  2.5287,  2.4142,  2.2996,  2.2742,\n",
       "         2.2742,  2.6433,  1.7396,  1.1795,  0.3649, -0.4115, -0.3224,  1.8923,\n",
       "         2.2996,  2.0069,  2.0323,  2.8215,  2.7069,  2.6051,  2.5797,  0.7213,\n",
       "        -0.4242, -0.3988, -0.4242, -0.4242, -0.4242, -0.4242, -0.4242, -0.2969,\n",
       "         0.0340,  0.0595,  0.1486,  0.1613, -0.0806, -0.3606, -0.4242, -0.4242,\n",
       "        -0.4242, -0.4242, -0.4242, -0.3351,  0.6450,  0.2631,  0.4159,  0.4795,\n",
       "         0.4286,  0.4286,  0.2631, -0.4242, -0.4242, -0.4242, -0.4242, -0.4242,\n",
       "        -0.4242, -0.4242, -0.4242, -0.4242, -0.4242, -0.4242, -0.4242, -0.4242,\n",
       "        -0.4242, -0.4242, -0.4242, -0.4242, -0.4242, -0.4242, -0.4242, -0.4242,\n",
       "        -0.4242, -0.4242, -0.4242, -0.4242, -0.4242, -0.4242, -0.4242, -0.4242,\n",
       "        -0.4242, -0.4242, -0.4242, -0.4242, -0.4242, -0.4242, -0.4242, -0.4242,\n",
       "        -0.4242, -0.4242, -0.4242, -0.4242, -0.4242, -0.4242, -0.4242, -0.4242,\n",
       "        -0.4242, -0.4242, -0.4242, -0.4242, -0.4242, -0.4242, -0.4242, -0.4242,\n",
       "        -0.4242, -0.4242, -0.4242, -0.4242, -0.4242, -0.4242, -0.4242, -0.4242,\n",
       "        -0.4242, -0.4242, -0.4242, -0.4242, -0.4242, -0.4242, -0.4242, -0.4242,\n",
       "        -0.4242, -0.4242, -0.4242, -0.4242, -0.4242, -0.4242, -0.4242, -0.4242,\n",
       "        -0.4242, -0.4242, -0.4242, -0.4242, -0.4242, -0.4242, -0.4242, -0.4242])"
      ]
     },
     "execution_count": null,
     "metadata": {},
     "output_type": "execute_result"
    }
   ],
   "source": [
    "x[0]"
   ]
  },
  {
   "cell_type": "code",
   "execution_count": null,
   "metadata": {},
   "outputs": [
    {
     "data": {
      "text/plain": [
       "tensor([-0.3351, -0.3144, -0.3120, -0.0900, -0.4556, -0.4641, -0.4828, -0.0513,\n",
       "        -0.6334, -0.5049, -0.2675, -0.4936, -0.3189, -0.6110, -0.2672, -0.2091,\n",
       "        -0.7759, -0.5682, -0.7192, -0.0139, -0.0452, -0.3064, -0.2534, -0.3676,\n",
       "        -0.7510,  0.0984, -0.5788, -0.5693, -0.2025, -0.4641, -0.3249, -0.5678,\n",
       "        -0.4617, -0.5753, -0.6872, -0.4906, -0.5003, -0.6857, -0.3083, -0.7930,\n",
       "        -0.3776, -0.6174, -0.5913, -0.5759, -0.6398, -0.6567, -0.3825, -0.3594,\n",
       "        -0.1206, -0.7258, -0.1324, -0.7328, -0.3449, -0.4982, -0.9682, -0.2596,\n",
       "        -0.5087, -0.4249, -0.5773, -0.5371, -0.2990, -0.6172, -0.5741, -0.4432,\n",
       "        -0.5205, -0.3277, -0.6483, -0.0440, -0.5998, -0.5867, -0.2898, -0.1549,\n",
       "        -0.2046, -0.1911, -0.1196, -0.1247, -0.7007, -0.3053, -0.4676,  0.0315,\n",
       "        -0.4866, -0.3666, -0.1699, -0.5476, -0.6814, -0.7475, -0.3722, -0.3220,\n",
       "        -0.3387, -0.5420,  0.0835, -0.3365, -0.7396, -0.4575, -0.4742, -0.5856,\n",
       "        -0.5943, -0.5156, -0.3663, -0.5742, -0.1505, -0.4298, -0.4532, -0.3777,\n",
       "         0.0332, -0.3512, -0.5596, -0.6903, -0.9473, -0.2284, -0.1019, -0.6022,\n",
       "        -0.4517, -0.1481, -0.5755, -0.5972, -0.6316, -0.4946, -0.7197, -0.7196,\n",
       "        -0.2665, -0.0939, -0.5117, -0.3075, -0.3613, -0.0572, -0.6134, -0.2187,\n",
       "        -0.1042,  0.2944,  0.8362,  0.2810, -0.1203, -0.3917, -0.3223, -0.2850,\n",
       "        -0.6490, -0.3839, -0.5918, -0.4358, -0.8312, -0.1475, -0.5051, -0.2389,\n",
       "        -0.5390, -0.5673, -0.4667, -0.6664, -0.3519, -0.4770, -0.1763, -0.2761,\n",
       "        -0.4413, -0.2835, -0.2292, -0.4546, -0.2491,  1.6748,  1.7277,  1.5342,\n",
       "         2.1712,  1.6023,  1.1976,  1.5207,  1.6771,  1.3960,  0.7814, -0.4674,\n",
       "        -0.6808, -0.7179, -0.3133, -0.7933, -0.4996, -0.3432, -0.2449, -0.1209,\n",
       "        -0.6329, -0.4892, -0.4624, -0.4502, -0.6572, -0.3745, -0.3781, -0.0089,\n",
       "        -0.6760,  1.5120,  1.6858,  1.2392,  1.4345,  1.7631,  1.7115,  1.7671,\n",
       "         1.5049,  1.1614,  1.3350, -0.5210,  0.0984, -0.4827, -0.5205, -0.6153,\n",
       "        -0.8470, -0.5028, -0.5676, -0.6894,  0.0111, -0.2396, -0.6111, -0.5508,\n",
       "        -0.4662, -0.4148, -0.4443, -0.3220, -0.6058,  1.2239,  2.0375,  1.0781,\n",
       "         1.4092,  1.6433,  1.4932,  1.7714,  1.2474,  1.2877,  0.5010, -0.3509,\n",
       "        -0.4685, -0.4348,  0.0552, -0.6086, -0.4890, -0.5712, -0.6453, -0.2682,\n",
       "        -0.2232, -0.6090, -0.2448, -0.2202, -0.6091, -0.1636, -0.5241, -0.4591,\n",
       "        -0.0555,  2.0765,  2.0757,  1.1160,  1.6028,  1.2690,  1.5314,  1.4527,\n",
       "         0.8486,  1.6986,  0.4206, -0.4680,  0.0827, -0.4932, -0.2420, -0.5161,\n",
       "        -0.1895, -0.5329, -0.3896, -0.2251, -0.4575, -0.5008, -0.4623, -0.6296,\n",
       "        -0.6972, -0.3141, -0.3446, -0.3582, -0.1497,  1.9103,  1.3996,  1.5033,\n",
       "         1.4810,  1.2260,  1.9458,  1.7414,  1.0860,  1.4101, -0.0047, -0.4764,\n",
       "        -0.2365, -0.2539, -0.5700, -0.5571, -0.2216, -0.6453,  0.1032, -0.1878,\n",
       "        -0.5277, -0.3677, -0.4792, -0.5551, -0.4528, -0.6407, -0.7924, -0.3198,\n",
       "        -0.2801,  1.7840,  1.4975,  1.7633,  1.9534,  1.4276,  1.7959,  1.2626,\n",
       "         1.1740,  1.2467, -0.2262, -0.2027, -0.2711, -0.4235, -0.8032, -0.2027,\n",
       "        -0.8073, -0.3912, -0.5725, -0.3908, -0.3148, -0.5467, -0.2464, -0.1476,\n",
       "        -0.4761, -0.4652, -0.3056, -0.4762,  1.8237,  1.9516,  0.8500,  0.9811,\n",
       "         0.7125,  1.4932,  1.2782,  1.1747,  1.1003,  1.2821, -0.0775, -0.4221,\n",
       "        -0.6391, -0.0732, -0.2681, -0.4136, -0.1329,  0.0249, -0.7248, -0.7552,\n",
       "        -0.6830, -0.6350, -0.4835, -0.3605, -0.1571, -0.3861, -0.5593, -0.1062,\n",
       "         2.2336,  1.4896,  1.4094,  1.2338,  0.6790,  0.6998,  1.3973,  1.2568,\n",
       "         0.9847,  1.2096, -0.3152, -0.2507, -0.3214, -0.3394, -0.4416, -0.4242,\n",
       "        -0.4984, -0.2801, -0.4667, -0.5665, -0.1451, -0.2134, -0.4863, -0.3553,\n",
       "        -0.5738, -0.7077, -0.0990,  0.5575,  1.3672,  1.3878,  1.9757,  1.2631,\n",
       "         0.8570,  1.5882,  1.3741,  0.8767,  0.6177,  0.9771, -0.2522, -0.3948,\n",
       "        -0.4801, -0.5274, -0.5636, -0.2273, -0.6096, -0.4878, -0.2774, -0.3680,\n",
       "        -0.4954, -0.1674, -0.1194, -0.5465, -0.3224,  0.3381,  1.0108,  1.6312,\n",
       "         0.4136,  1.6019,  1.0814,  0.6786,  1.4194,  1.2015,  0.3268,  0.6558,\n",
       "         0.9545,  1.7034, -0.2848, -0.4810, -0.0079, -0.2962, -0.4891, -0.6437,\n",
       "        -0.0924, -0.1599, -0.0589, -0.6612, -0.1998, -0.2187, -0.6203, -0.8363,\n",
       "         0.1856,  1.6353,  1.1683,  0.7638,  1.0106,  0.3604,  0.4427,  1.2214,\n",
       "         1.6682,  1.2014,  0.8672,  1.0972,  1.1497,  1.6990,  0.2378, -0.1841,\n",
       "        -0.0077, -0.4135, -0.3407, -0.6040, -0.3729, -0.0563, -0.3391, -0.1838,\n",
       "        -0.4232, -0.3331,  0.0107,  1.3569,  1.8184, -0.0524,  0.5886,  1.6480,\n",
       "         1.5661,  1.1700,  1.7584,  1.5025,  1.2709,  1.6321,  1.0906,  1.1001,\n",
       "         1.4794,  1.8924,  0.3534, -0.3082, -0.5677, -0.5339, -0.1756, -0.4011,\n",
       "        -0.4429, -0.4210, -0.5526, -0.3457, -0.4332, -0.3694,  1.8670,  1.1093,\n",
       "         0.1496,  0.9905,  1.1828,  1.4797,  1.3604,  1.5346,  1.6645,  1.4563,\n",
       "         1.4499,  0.7875,  0.6705,  0.8643,  0.8005,  1.0648,  0.3943, -0.4533,\n",
       "        -0.5193, -0.5007, -0.3216, -0.5748, -0.7375, -0.3710, -0.4329, -0.2491,\n",
       "         0.7187,  0.9895,  0.2682,  0.2030,  0.7921,  1.1421,  1.0396,  1.1712,\n",
       "         0.8298,  1.5286,  1.0518,  1.3469,  1.4269,  0.9017,  0.9835,  1.1727,\n",
       "         1.4042,  0.8472,  1.0748, -0.5509,  0.0612, -0.3383,  0.4483,  0.7047,\n",
       "         1.0077,  0.7026,  1.0831,  0.8987,  0.6210, -0.3119,  1.1965,  1.4282,\n",
       "         0.6643,  0.4680,  0.3545,  0.0641,  0.8274,  1.3355,  1.8363,  1.3993,\n",
       "         1.8487,  1.8579,  2.1287,  1.8404,  1.1259,  1.0267,  1.0913, -0.8420,\n",
       "        -0.2877,  0.8228,  1.1169,  0.4710,  0.1038,  0.6001,  0.6998, -0.0754,\n",
       "         0.0236,  0.2497,  0.9065,  0.3798,  0.2986,  1.3306,  1.6053,  1.5036,\n",
       "         1.2548,  1.0470,  1.3265,  0.8752,  0.8260,  0.6614,  0.0419,  0.2320,\n",
       "         0.1702,  0.5710,  0.8852, -0.7085,  0.3357,  1.9433,  2.2414,  1.4221,\n",
       "         1.1769,  1.5894,  1.1604,  0.8979,  0.5151,  0.3112,  0.8288,  0.9521,\n",
       "         1.1631,  1.3267,  1.3356,  0.7836,  1.2447,  1.6175,  1.8461,  1.9649,\n",
       "         2.4312,  2.4574,  2.3029,  2.1058,  2.3166,  2.0970,  2.0436,  0.2500,\n",
       "        -0.3845,  0.9635,  1.1390,  1.7023,  2.3733,  2.0983,  2.4935,  2.2627,\n",
       "         1.5863,  1.8770,  1.8566,  1.6841,  1.5100,  1.8028,  1.8713,  2.1968,\n",
       "         2.1953,  1.7500,  2.2030,  1.8209,  1.5933,  1.8825,  1.7056,  2.0875,\n",
       "         2.2028,  2.0936,  1.8624,  0.5168, -0.4850, -0.2338, -0.2252, -0.2195,\n",
       "         0.6947,  1.7093,  1.8142,  2.2543,  2.0791,  2.0883,  1.9192,  1.8705,\n",
       "         2.1559,  2.5669,  1.7880,  0.9360,  0.5480, -0.4343, -0.5879,  1.7788,\n",
       "         2.0922,  1.5412,  1.6686,  2.2998,  2.1412,  2.6652,  2.2652,  0.6489,\n",
       "        -0.4065, -0.8934, -0.5894, -0.7673, -0.4893, -0.4964, -0.5656, -0.3024,\n",
       "         0.0928,  0.2683,  0.0834,  0.3098,  0.0290, -0.3342, -0.8468, -0.3749,\n",
       "        -0.4128, -0.6755, -0.5984, -0.0489,  0.1624,  0.3505,  0.0607,  0.5664,\n",
       "         0.2358,  0.2604, -0.0654, -0.5990, -0.2589, -0.2643, -0.1094, -0.4589,\n",
       "        -0.3348, -0.2903, -0.3646, -0.7269, -0.6473, -0.6991, -0.4307, -0.6940,\n",
       "        -0.0884, -0.7734, -0.2059, -0.6330, -0.4496, -0.4739, -0.3298, -0.5117,\n",
       "        -0.4249, -0.3641, -0.2072, -0.3824, -0.2626, -0.5168, -0.5023, -0.5275,\n",
       "        -0.1886, -0.2869, -0.3443, -0.2780, -0.5645, -0.3212, -0.4245, -0.1903,\n",
       "        -0.0213, -0.1420, -0.4610,  0.0856, -0.3851, -0.6504, -0.4741, -0.2783,\n",
       "        -0.5160, -0.8670, -0.3773, -0.5300, -0.0697, -0.4928, -0.6104, -0.3746,\n",
       "        -0.2821, -0.2142, -0.3957, -0.1842, -0.2063, -0.3012, -0.4577, -0.3826,\n",
       "        -0.4712, -0.3897, -0.4271, -0.3414, -0.4496, -0.6436, -0.5549, -0.4353,\n",
       "        -0.0174, -0.5679, -0.3322, -0.4190, -0.6713, -0.6881, -0.6317, -0.8047,\n",
       "        -0.3928, -0.3517, -0.2967, -0.5466, -0.4349, -0.2802, -0.4783, -0.1892],\n",
       "       grad_fn=<SelectBackward>)"
      ]
     },
     "execution_count": null,
     "metadata": {},
     "output_type": "execute_result"
    }
   ],
   "source": [
    "x1[0]"
   ]
  }
 ],
 "metadata": {
  "kernelspec": {
   "display_name": "Python 3",
   "language": "python",
   "name": "python3"
  }
 },
 "nbformat": 4,
 "nbformat_minor": 4
}
